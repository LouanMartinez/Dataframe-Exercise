{
  "nbformat": 4,
  "nbformat_minor": 0,
  "metadata": {
    "colab": {
      "provenance": [],
      "authorship_tag": "ABX9TyPKUdjAjiXNvGnH30LA3muN",
      "include_colab_link": true
    },
    "kernelspec": {
      "name": "python3",
      "display_name": "Python 3"
    },
    "language_info": {
      "name": "python"
    }
  },
  "cells": [
    {
      "cell_type": "markdown",
      "metadata": {
        "id": "view-in-github",
        "colab_type": "text"
      },
      "source": [
        "<a href=\"https://colab.research.google.com/github/LouanMartinez/Dataframe-Exercise/blob/main/3_6technical.ipynb\" target=\"_parent\"><img src=\"https://colab.research.google.com/assets/colab-badge.svg\" alt=\"Open In Colab\"/></a>"
      ]
    },
    {
      "cell_type": "code",
      "source": [],
      "metadata": {
        "id": "rs60hQKeULLK"
      },
      "execution_count": null,
      "outputs": []
    },
    {
      "cell_type": "code",
      "execution_count": 2,
      "metadata": {
        "colab": {
          "base_uri": "https://localhost:8080/"
        },
        "id": "Rvr8t39fO3QK",
        "outputId": "8cd48cc6-ed16-4196-fbf6-d8ebfdd5ea01"
      },
      "outputs": [
        {
          "output_type": "stream",
          "name": "stdout",
          "text": [
            "Original DataFrame:\n",
            "    Product  Quantity  Price  Total\n",
            "0     Mouse         2     25     50\n",
            "1  Keyboard         1     50     50\n",
            "2     Mouse         3     20     60\n",
            "3   Monitor         1    200    200\n",
            "4     Mouse         5     15     75\n",
            "\n",
            "========================================\n",
            "\n",
            "Updated Mouse rows:\n",
            "  Product  Quantity  Price  Total\n",
            "0   Mouse         2     30     60\n",
            "2   Mouse         3     30     90\n",
            "4   Mouse         5     30    150\n"
          ]
        }
      ],
      "source": [
        "\n",
        "import pandas as pd\n",
        "\n",
        "df = pd.DataFrame({\n",
        "    'Product': ['Mouse', 'Keyboard', 'Mouse', 'Monitor', 'Mouse'],\n",
        "    'Quantity': [2, 1, 3, 1, 5],\n",
        "    'Price': [25, 50, 20, 200, 15],\n",
        "    'Total': [50, 50, 60, 200, 75]\n",
        "})\n",
        "\n",
        "print(\"Original DataFrame:\")\n",
        "print(df)\n",
        "print(\"\\n\" + \"=\"*40 + \"\\n\")\n",
        "\n",
        "# Step 1: Update price of Mouse products\n",
        "\n",
        "df.loc[df[\"Product\"] == \"Mouse\", \"Price\"] = 30\n",
        "\n",
        "# Step 2: Recalculate Total for affected rows\n",
        "df[\"Total\"] = df[\"Quantity\"] * df[\"Price\"]\n",
        "\n",
        "# Step 3: Show only Mouse rows\n",
        "\n",
        "print(\"Updated Mouse rows:\")\n",
        "print(df[df[\"Product\"] == \"Mouse\"])"
      ]
    },
    {
      "cell_type": "code",
      "source": [
        "\n",
        "print(\"Available columns:\")\n",
        "print(df.columns.tolist())\n",
        "print(\"\\n\" + \"=\"*40 + \"\\n\")\n",
        "\n",
        "# Step 1: Drop Discount column\n",
        "if 'Discount' in df.columns:\n",
        "    df = df.drop(columns=['Discount'])\n",
        "    print(\"Dropped 'Discount' column\")\n",
        "else:\n",
        "    print(\"'Discount' column not found\")\n",
        "\n",
        "# Step 2: Drop FinalTotal column\n",
        "if 'FinalTotal' in df.columns:\n",
        "    df = df.drop(columns=['FinalTotal'])\n",
        "    print(\"Dropped 'FinalTotal' column\")\n",
        "else:\n",
        "    print(\"'FinalTotal' column not found\")\n",
        "\n",
        "print(\"\\n\" + \"=\"*40 + \"\\n\")\n",
        "\n",
        "# Step 3: Show updated DataFrame\n",
        "print(\"Updated DataFrame:\")\n",
        "print(df.head())"
      ],
      "metadata": {
        "colab": {
          "base_uri": "https://localhost:8080/"
        },
        "id": "oYZnPRxGUE3q",
        "outputId": "2c7eec60-9e13-4abe-dc70-438c3669e503"
      },
      "execution_count": 5,
      "outputs": [
        {
          "output_type": "stream",
          "name": "stdout",
          "text": [
            "Available columns:\n",
            "['Product', 'Quantity', 'Price', 'Total']\n",
            "\n",
            "========================================\n",
            "\n",
            "'Discount' column not found\n",
            "'FinalTotal' column not found\n",
            "\n",
            "========================================\n",
            "\n",
            "Updated DataFrame:\n",
            "    Product  Quantity  Price  Total\n",
            "0     Mouse         2     30     60\n",
            "1  Keyboard         1     50     50\n",
            "2     Mouse         3     30     90\n",
            "3   Monitor         1    200    200\n",
            "4     Mouse         5     30    150\n"
          ]
        }
      ]
    },
    {
      "cell_type": "code",
      "source": [
        "\n",
        "print(\"Available columns:\")\n",
        "print(df.columns.tolist())\n",
        "print(\"\\nDataFrame shape before dropping rows:\", df.shape)\n",
        "print(\"\\nFirst few rows:\")\n",
        "print(df.head())\n",
        "print(\"\\n\" + \"=\"*50 + \"\\n\")\n",
        "\n",
        "# Step 1: Drop row with OrderID = 1010\n",
        "if 'OrderID' in df.columns:\n",
        "    rows_to_drop = df[df[\"OrderID\"] == 1010].index\n",
        "    if len(rows_to_drop) > 0:\n",
        "        df = df.drop(rows_to_drop, axis=0)\n",
        "        print(f\"Dropped {len(rows_to_drop)} row(s) with OrderID = 1010\")\n",
        "    else:\n",
        "        print(\"No rows found with OrderID = 1010\")\n",
        "else:\n",
        "    print(\"'OrderID' column not found in DataFrame\")\n",
        "\n",
        "# Step 2: Drop the first row by index\n",
        "if len(df) > 0 and 0 in df.index:\n",
        "    df = df.drop(index=0)\n",
        "    print(\"Dropped row at index 0\")\n",
        "else:\n",
        "    print(\"No row at index 0 to drop\")\n",
        "\n",
        "print(\"\\n\" + \"=\"*50 + \"\\n\")\n",
        "\n",
        "# Step 3: Print new shape\n",
        "print(\"New shape:\", df.shape)"
      ],
      "metadata": {
        "colab": {
          "base_uri": "https://localhost:8080/"
        },
        "id": "ggcAlA0oV2cu",
        "outputId": "9d66b384-e6ed-4985-f3c3-c6500856f0bd"
      },
      "execution_count": 8,
      "outputs": [
        {
          "output_type": "stream",
          "name": "stdout",
          "text": [
            "Available columns:\n",
            "['Product', 'Quantity', 'Price', 'Total']\n",
            "\n",
            "DataFrame shape before dropping rows: (4, 4)\n",
            "\n",
            "First few rows:\n",
            "    Product  Quantity  Price  Total\n",
            "1  Keyboard         1     50     50\n",
            "2     Mouse         3     30     90\n",
            "3   Monitor         1    200    200\n",
            "4     Mouse         5     30    150\n",
            "\n",
            "==================================================\n",
            "\n",
            "'OrderID' column not found in DataFrame\n",
            "No row at index 0 to drop\n",
            "\n",
            "==================================================\n",
            "\n",
            "New shape: (4, 4)\n"
          ]
        }
      ]
    },
    {
      "cell_type": "code",
      "source": [],
      "metadata": {
        "id": "YemU4sSzWmt5"
      },
      "execution_count": null,
      "outputs": []
    }
  ]
}