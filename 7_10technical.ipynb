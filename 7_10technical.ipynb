{
  "nbformat": 4,
  "nbformat_minor": 0,
  "metadata": {
    "colab": {
      "provenance": [],
      "authorship_tag": "ABX9TyMEaItqip64xUswfG5DzEZF",
      "include_colab_link": true
    },
    "kernelspec": {
      "name": "python3",
      "display_name": "Python 3"
    },
    "language_info": {
      "name": "python"
    }
  },
  "cells": [
    {
      "cell_type": "markdown",
      "metadata": {
        "id": "view-in-github",
        "colab_type": "text"
      },
      "source": [
        "<a href=\"https://colab.research.google.com/github/LouanMartinez/Dataframe-Exercise/blob/main/7_10technical.ipynb\" target=\"_parent\"><img src=\"https://colab.research.google.com/assets/colab-badge.svg\" alt=\"Open In Colab\"/></a>"
      ]
    },
    {
      "cell_type": "code",
      "execution_count": 2,
      "metadata": {
        "colab": {
          "base_uri": "https://localhost:8080/"
        },
        "id": "zRQ97yPWl5Qi",
        "outputId": "d5e90d7b-682f-44e2-cfaf-0061a013069a"
      },
      "outputs": [
        {
          "output_type": "stream",
          "name": "stdout",
          "text": [
            "Sample DataFrame:\n",
            "      Category  Quantity  Price Region\n",
            "0  Electronics         2    300  North\n",
            "1     Clothing         5     50  South\n",
            "2  Electronics         4    600  North\n",
            "3        Books         1     25   East\n",
            "4  Electronics         3    800   West\n",
            "5     Clothing         2     40  North\n",
            "\n",
            "==================================================\n",
            "\n",
            "Electronics with Quantity >= 3:\n",
            "      Category  Quantity  Price Region\n",
            "2  Electronics         4    600  North\n",
            "4  Electronics         3    800   West\n",
            "\n",
            "==================================================\n",
            "\n",
            "Products with Price > 500:\n",
            "      Category  Quantity  Price Region\n",
            "2  Electronics         4    600  North\n",
            "4  Electronics         3    800   West\n",
            "\n",
            "==================================================\n",
            "\n",
            "North orders: 3\n"
          ]
        }
      ],
      "source": [
        "import pandas as pd\n",
        "\n",
        "\n",
        "df = pd.DataFrame({\n",
        "    'Category': ['Electronics', 'Clothing', 'Electronics', 'Books', 'Electronics', 'Clothing'],\n",
        "    'Quantity': [2, 5, 4, 1, 3, 2],\n",
        "    'Price': [300, 50, 600, 25, 800, 40],\n",
        "    'Region': ['North', 'South', 'North', 'East', 'West', 'North']\n",
        "})\n",
        "\n",
        "print(\"Sample DataFrame:\")\n",
        "print(df)\n",
        "print(\"\\n\" + \"=\"*50 + \"\\n\")\n",
        "\n",
        "# Step 1: Electronics with Quantity >= 3\n",
        "result1 = df[(df[\"Category\"] == \"Electronics\") & (df[\"Quantity\"] >= 3)]\n",
        "print(\"Electronics with Quantity >= 3:\")\n",
        "print(result1)\n",
        "\n",
        "print(\"\\n\" + \"=\"*50 + \"\\n\")\n",
        "\n",
        "# Step 2: Products with Price > 500\n",
        "result2 = df[df[\"Price\"] > 500]\n",
        "print(\"Products with Price > 500:\")\n",
        "print(result2)\n",
        "\n",
        "print(\"\\n\" + \"=\"*50 + \"\\n\")\n",
        "\n",
        "# Step 3: Count orders from North region\n",
        "count_north = df[df[\"Region\"] == \"North\"].shape[0]\n",
        "print(\"North orders:\", count_north)"
      ]
    },
    {
      "cell_type": "code",
      "source": [
        "import pandas as pd\n",
        "\n",
        "df = pd.DataFrame({\n",
        "    'Region': ['West', 'East', 'West', 'North', 'South', 'West', 'East'],\n",
        "    'Customer': ['Alice', 'Bob', 'Alice', 'Charlie', 'Alice', 'Bob', 'Alice'],\n",
        "    'Product': ['Laptop', 'Mouse', 'Printer', 'Keyboard', 'Laptop', 'Printer', 'Monitor'],\n",
        "    'Sales': [1000, 25, 300, 75, 1200, 280, 400]\n",
        "})\n",
        "\n",
        "print(\"Sample DataFrame:\")\n",
        "print(df)\n",
        "print(\"\\n\" + \"=\"*50 + \"\\n\")\n",
        "\n",
        "# Step 1: Sales in West region\n",
        "west_sales = df[df[\"Region\"] == \"West\"]\n",
        "print(\"Sales in West region:\")\n",
        "print(west_sales)\n",
        "\n",
        "print(\"\\n\" + \"=\"*50 + \"\\n\")\n",
        "\n",
        "# Step 2: Sales by Alice\n",
        "alice_sales = df[df[\"Customer\"] == \"Alice\"]\n",
        "print(\"Sales by Alice:\")\n",
        "print(alice_sales)\n",
        "\n",
        "print(\"\\n\" + \"=\"*50 + \"\\n\")\n",
        "\n",
        "# Step 3: Sales of Laptop or Printer\n",
        "subset_sales = df[df[\"Product\"].isin([\"Laptop\", \"Printer\"])]\n",
        "print(\"Sales of Laptop or Printer:\")\n",
        "print(subset_sales)"
      ],
      "metadata": {
        "colab": {
          "base_uri": "https://localhost:8080/"
        },
        "id": "mHDoUkPGz7mg",
        "outputId": "7d2c5d7f-bacc-476c-c468-62d7ff6cf873"
      },
      "execution_count": 3,
      "outputs": [
        {
          "output_type": "stream",
          "name": "stdout",
          "text": [
            "Sample DataFrame:\n",
            "  Region Customer   Product  Sales\n",
            "0   West    Alice    Laptop   1000\n",
            "1   East      Bob     Mouse     25\n",
            "2   West    Alice   Printer    300\n",
            "3  North  Charlie  Keyboard     75\n",
            "4  South    Alice    Laptop   1200\n",
            "5   West      Bob   Printer    280\n",
            "6   East    Alice   Monitor    400\n",
            "\n",
            "==================================================\n",
            "\n",
            "Sales in West region:\n",
            "  Region Customer  Product  Sales\n",
            "0   West    Alice   Laptop   1000\n",
            "2   West    Alice  Printer    300\n",
            "5   West      Bob  Printer    280\n",
            "\n",
            "==================================================\n",
            "\n",
            "Sales by Alice:\n",
            "  Region Customer  Product  Sales\n",
            "0   West    Alice   Laptop   1000\n",
            "2   West    Alice  Printer    300\n",
            "4  South    Alice   Laptop   1200\n",
            "6   East    Alice  Monitor    400\n",
            "\n",
            "==================================================\n",
            "\n",
            "Sales of Laptop or Printer:\n",
            "  Region Customer  Product  Sales\n",
            "0   West    Alice   Laptop   1000\n",
            "2   West    Alice  Printer    300\n",
            "4  South    Alice   Laptop   1200\n",
            "5   West      Bob  Printer    280\n"
          ]
        }
      ]
    },
    {
      "cell_type": "code",
      "source": [
        "import pandas as pd\n",
        "\n",
        "\n",
        "df = pd.DataFrame({\n",
        "    'Category': ['Furniture', 'Electronics', 'Furniture', 'Clothing', 'Furniture', 'Electronics'],\n",
        "    'Product': ['Chair', 'Laptop', 'Table', 'Shirt', 'Sofa', 'Phone'],\n",
        "    'Quantity': [2, 1, 1, 3, 1, 2],\n",
        "    'Price': [150.0, 800.0, 300.0, 25.0, 600.0, 500.0],\n",
        "    'Total': [300.0, 800.0, 300.0, 75.0, 600.0, 1000.0]\n",
        "})\n",
        "\n",
        "print(\"Original DataFrame:\")\n",
        "print(df)\n",
        "print(\"\\n\" + \"=\"*50 + \"\\n\")\n",
        "\n",
        "# Step 1: Increase Price of Furniture by 10%\n",
        "df.loc[df[\"Category\"] == \"Furniture\", \"Price\"] *= 1.1\n",
        "\n",
        "# Step 2: Recalculate Total\n",
        "df[\"Total\"] = df[\"Quantity\"] * df[\"Price\"]\n",
        "\n",
        "# Step 3: Show only Furniture rows\n",
        "print(\"Updated Furniture rows (10% price increase):\")\n",
        "print(df[df[\"Category\"] == \"Furniture\"])"
      ],
      "metadata": {
        "colab": {
          "base_uri": "https://localhost:8080/"
        },
        "id": "RjEjSl3H1Fre",
        "outputId": "094f8086-343d-41dd-c612-dbbff8975a05"
      },
      "execution_count": 4,
      "outputs": [
        {
          "output_type": "stream",
          "name": "stdout",
          "text": [
            "Original DataFrame:\n",
            "      Category Product  Quantity  Price   Total\n",
            "0    Furniture   Chair         2  150.0   300.0\n",
            "1  Electronics  Laptop         1  800.0   800.0\n",
            "2    Furniture   Table         1  300.0   300.0\n",
            "3     Clothing   Shirt         3   25.0    75.0\n",
            "4    Furniture    Sofa         1  600.0   600.0\n",
            "5  Electronics   Phone         2  500.0  1000.0\n",
            "\n",
            "==================================================\n",
            "\n",
            "Updated Furniture rows (10% price increase):\n",
            "    Category Product  Quantity  Price  Total\n",
            "0  Furniture   Chair         2  165.0  330.0\n",
            "2  Furniture   Table         1  330.0  330.0\n",
            "4  Furniture    Sofa         1  660.0  660.0\n"
          ]
        }
      ]
    },
    {
      "cell_type": "code",
      "source": [
        "import pandas as pd\n",
        "\n",
        "df = pd.DataFrame({\n",
        "    'Region': ['West', 'East', 'West', 'North', 'South', 'West', 'East', 'North'],\n",
        "    'Customer': ['Alice', 'Bob', 'Charlie', 'Alice', 'Bob', 'Alice', 'Charlie', 'Bob'],\n",
        "    'Product': ['Laptop', 'Mouse', 'Printer', 'Keyboard', 'Monitor', 'Phone', 'Tablet', 'Speaker'],\n",
        "    'Quantity': [1, 2, 1, 3, 1, 1, 2, 1],\n",
        "    'Price': [1000, 25, 300, 75, 400, 500, 350, 150],\n",
        "    'Total': [1000, 50, 300, 225, 400, 500, 700, 150]\n",
        "})\n",
        "\n",
        "print(\"Original DataFrame:\")\n",
        "print(df)\n",
        "print(\"\\n\" + \"=\"*50 + \"\\n\")\n",
        "\n",
        "# Step 1: Sort by Total descending\n",
        "sorted_df = df.sort_values(by=\"Total\", ascending=False)\n",
        "print(\"Sorted by Total (descending):\")\n",
        "print(sorted_df.head())\n",
        "\n",
        "print(\"\\n\" + \"=\"*50 + \"\\n\")\n",
        "\n",
        "# Step 2: Show top 5 sales\n",
        "print(\"Top 5 sales:\")\n",
        "print(sorted_df.head())\n",
        "\n",
        "print(\"\\n\" + \"=\"*50 + \"\\n\")\n",
        "\n",
        "# Step 3: Multi-level sort (Region then Customer)\n",
        "multi_sort = df.sort_values(by=[\"Region\", \"Customer\"])\n",
        "print(\"Multi-level sort (Region then Customer):\")\n",
        "print(multi_sort.head())"
      ],
      "metadata": {
        "colab": {
          "base_uri": "https://localhost:8080/"
        },
        "id": "pchuL1Xb1nZG",
        "outputId": "c5b0072d-754d-4a2f-c70f-13e25850c18a"
      },
      "execution_count": 5,
      "outputs": [
        {
          "output_type": "stream",
          "name": "stdout",
          "text": [
            "Original DataFrame:\n",
            "  Region Customer   Product  Quantity  Price  Total\n",
            "0   West    Alice    Laptop         1   1000   1000\n",
            "1   East      Bob     Mouse         2     25     50\n",
            "2   West  Charlie   Printer         1    300    300\n",
            "3  North    Alice  Keyboard         3     75    225\n",
            "4  South      Bob   Monitor         1    400    400\n",
            "5   West    Alice     Phone         1    500    500\n",
            "6   East  Charlie    Tablet         2    350    700\n",
            "7  North      Bob   Speaker         1    150    150\n",
            "\n",
            "==================================================\n",
            "\n",
            "Sorted by Total (descending):\n",
            "  Region Customer  Product  Quantity  Price  Total\n",
            "0   West    Alice   Laptop         1   1000   1000\n",
            "6   East  Charlie   Tablet         2    350    700\n",
            "5   West    Alice    Phone         1    500    500\n",
            "4  South      Bob  Monitor         1    400    400\n",
            "2   West  Charlie  Printer         1    300    300\n",
            "\n",
            "==================================================\n",
            "\n",
            "Top 5 sales:\n",
            "  Region Customer  Product  Quantity  Price  Total\n",
            "0   West    Alice   Laptop         1   1000   1000\n",
            "6   East  Charlie   Tablet         2    350    700\n",
            "5   West    Alice    Phone         1    500    500\n",
            "4  South      Bob  Monitor         1    400    400\n",
            "2   West  Charlie  Printer         1    300    300\n",
            "\n",
            "==================================================\n",
            "\n",
            "Multi-level sort (Region then Customer):\n",
            "  Region Customer   Product  Quantity  Price  Total\n",
            "1   East      Bob     Mouse         2     25     50\n",
            "6   East  Charlie    Tablet         2    350    700\n",
            "3  North    Alice  Keyboard         3     75    225\n",
            "7  North      Bob   Speaker         1    150    150\n",
            "4  South      Bob   Monitor         1    400    400\n"
          ]
        }
      ]
    }
  ]
}